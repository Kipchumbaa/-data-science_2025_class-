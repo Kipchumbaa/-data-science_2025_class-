{
  "nbformat": 4,
  "nbformat_minor": 0,
  "metadata": {
    "colab": {
      "provenance": []
    },
    "kernelspec": {
      "name": "python3",
      "display_name": "Python 3"
    },
    "language_info": {
      "name": "python"
    }
  },
  "cells": [
    {
      "cell_type": "code",
      "execution_count": null,
      "metadata": {
        "colab": {
          "base_uri": "https://localhost:8080/"
        },
        "id": "BYf0lXfRkMOx",
        "outputId": "a927d101-6861-4957-9e4a-f353e8e329e3"
      },
      "outputs": [
        {
          "output_type": "stream",
          "name": "stdout",
          "text": [
            "Area: 24.0\n",
            "Perimeter (correct): 22.0\n"
          ]
        }
      ],
      "source": [
        "# Define the dimensions of the rectangle\n",
        "\n",
        "length = 8.0       # Length of the rectangle (in units)\n",
        "width = 3.0        # Width of the rectangle (in units)\n",
        "\n",
        "# Calculate the area of the rectangle correctly\n",
        "area = length * width\n",
        "\n",
        "# Bug: Incorrect perimeter calculation\n",
        "# Intended formula: 2 * (length + width)\n",
        "# Buggy formula here misses one full width value\n",
        "perimeter = (length * 2) + width\n",
        "\n",
        "#correct formula\n",
        "perimeter = 2 * (length + width)\n",
        "\n",
        "# Print the results\n",
        "print(\"Area:\", area)\n",
        "print(\"Perimeter (correct):\", perimeter)\n"
      ]
    },
    {
      "cell_type": "code",
      "source": [
        "# Correct code to compute cylinder metrics\n",
        "radius = 3.0 # radius of the cylinder (meters)\n",
        "height = 5.0 # height of the cylinder (meters)\n",
        "\n",
        "volume = 3.14159 * 3.0**2 * 5.0 # formula for calculating the volume of the cylinder\n",
        "surface_area = 2*(3.14159) * 3.0 * (3.0 + 5.0) # formula for calculating the surface area of a cylinder\n",
        "\n",
        "# Print the final result\n",
        "print(\"Volume\", volume)\n",
        "print(\"Surface area\", surface_area)"
      ],
      "metadata": {
        "colab": {
          "base_uri": "https://localhost:8080/"
        },
        "id": "xNLsDacgkhhG",
        "outputId": "a1abc122-f0dd-4bd3-e7cc-cd3faaed3621"
      },
      "execution_count": null,
      "outputs": [
        {
          "output_type": "stream",
          "name": "stdout",
          "text": [
            "Volume 141.37155\n",
            "Surface area 150.79631999999998\n"
          ]
        }
      ]
    },
    {
      "cell_type": "code",
      "source": [],
      "metadata": {
        "id": "puCfnw_Ln2Wg"
      },
      "execution_count": null,
      "outputs": []
    }
  ]
}